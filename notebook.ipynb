{
  "cells": [
    {
      "cell_type": "markdown",
      "source": "### This notebook was used for the Medium article ['Going Deep with Deepnote']()",
      "metadata": {
        "tags": [],
        "cell_id": "00000-7bf154a1-22c8-40c0-a301-6d014d4b4e0d",
        "deepnote_cell_type": "markdown"
      }
    },
    {
      "cell_type": "code",
      "metadata": {
        "tags": [],
        "cell_id": "00000-a91ecd26-4fb6-4ba4-8a71-cb69439ccf20",
        "deepnote_cell_type": "code"
      },
      "source": "# Review my code.... ",
      "execution_count": null,
      "outputs": []
    },
    {
      "cell_type": "markdown",
      "source": "![Picture title](image-20210412-230553.png)",
      "metadata": {
        "tags": [],
        "cell_id": "00003-4b71e468-8dee-4acc-997b-0e196c3e41a7",
        "deepnote_cell_type": "markdown"
      }
    },
    {
      "cell_type": "markdown",
      "source": "![Picture title](image-20210412-231016.png)",
      "metadata": {
        "tags": [],
        "cell_id": "00004-9d8de7b7-03c5-408f-b677-bd48a0f1f5f0",
        "deepnote_cell_type": "markdown"
      }
    },
    {
      "cell_type": "code",
      "metadata": {
        "tags": [],
        "cell_id": "00001-be320043-6a57-4be2-a90e-3c26b87a8fb5",
        "deepnote_to_be_reexecuted": false,
        "source_hash": "13865b25",
        "execution_millis": 67,
        "execution_start": 1618280835128,
        "allow_embed": "output",
        "deepnote_cell_type": "code"
      },
      "source": "import pandas as pd\ndf = pd.read_csv('3DSinusoidal.csv')\ndf",
      "execution_count": null,
      "outputs": [
        {
          "output_type": "execute_result",
          "execution_count": 5,
          "data": {
            "application/vnd.deepnote.dataframe.v2+json": {
              "row_count": 125,
              "column_count": 3,
              "columns": [
                {
                  "name": "x",
                  "dtype": "float64",
                  "stats": {
                    "unique_count": 125,
                    "nan_count": 0,
                    "min": 0.0017965939121126,
                    "max": 15.665897468749334,
                    "histogram": [
                      {
                        "bin_start": 0.0017965939121126,
                        "bin_end": 1.5682066813958346,
                        "count": 16
                      },
                      {
                        "bin_start": 1.5682066813958346,
                        "bin_end": 3.1346167688795568,
                        "count": 16
                      },
                      {
                        "bin_start": 3.1346167688795568,
                        "bin_end": 4.7010268563632795,
                        "count": 9
                      },
                      {
                        "bin_start": 4.7010268563632795,
                        "bin_end": 6.2674369438470015,
                        "count": 10
                      },
                      {
                        "bin_start": 6.2674369438470015,
                        "bin_end": 7.833847031330723,
                        "count": 11
                      },
                      {
                        "bin_start": 7.833847031330723,
                        "bin_end": 9.400257118814446,
                        "count": 11
                      },
                      {
                        "bin_start": 9.400257118814446,
                        "bin_end": 10.966667206298167,
                        "count": 15
                      },
                      {
                        "bin_start": 10.966667206298167,
                        "bin_end": 12.53307729378189,
                        "count": 11
                      },
                      {
                        "bin_start": 12.53307729378189,
                        "bin_end": 14.099487381265613,
                        "count": 11
                      },
                      {
                        "bin_start": 14.099487381265613,
                        "bin_end": 15.665897468749334,
                        "count": 15
                      }
                    ]
                  }
                },
                {
                  "name": "y",
                  "dtype": "float64",
                  "stats": {
                    "unique_count": 125,
                    "nan_count": 0,
                    "min": -0.8626821040683654,
                    "max": 0.9897677632499152,
                    "histogram": [
                      {
                        "bin_start": -0.8626821040683654,
                        "bin_end": -0.6774371173365373,
                        "count": 6
                      },
                      {
                        "bin_start": -0.6774371173365373,
                        "bin_end": -0.4921921306047093,
                        "count": 8
                      },
                      {
                        "bin_start": -0.4921921306047093,
                        "bin_end": -0.30694714387288125,
                        "count": 8
                      },
                      {
                        "bin_start": -0.30694714387288125,
                        "bin_end": -0.12170215714105315,
                        "count": 15
                      },
                      {
                        "bin_start": -0.12170215714105315,
                        "bin_end": 0.06354282959077495,
                        "count": 27
                      },
                      {
                        "bin_start": 0.06354282959077495,
                        "bin_end": 0.24878781632260294,
                        "count": 25
                      },
                      {
                        "bin_start": 0.24878781632260294,
                        "bin_end": 0.43403280305443115,
                        "count": 19
                      },
                      {
                        "bin_start": 0.43403280305443115,
                        "bin_end": 0.6192777897862591,
                        "count": 6
                      },
                      {
                        "bin_start": 0.6192777897862591,
                        "bin_end": 0.8045227765180871,
                        "count": 6
                      },
                      {
                        "bin_start": 0.8045227765180871,
                        "bin_end": 0.9897677632499152,
                        "count": 5
                      }
                    ]
                  }
                },
                {
                  "name": "z",
                  "dtype": "float64",
                  "stats": {
                    "unique_count": 125,
                    "nan_count": 0,
                    "min": 0.1600526064312069,
                    "max": 8.50202923992908,
                    "histogram": [
                      {
                        "bin_start": 0.1600526064312069,
                        "bin_end": 0.9942502697809941,
                        "count": 9
                      },
                      {
                        "bin_start": 0.9942502697809941,
                        "bin_end": 1.8284479331307812,
                        "count": 15
                      },
                      {
                        "bin_start": 1.8284479331307812,
                        "bin_end": 2.6626455964805684,
                        "count": 11
                      },
                      {
                        "bin_start": 2.6626455964805684,
                        "bin_end": 3.4968432598303556,
                        "count": 7
                      },
                      {
                        "bin_start": 3.4968432598303556,
                        "bin_end": 4.331040923180143,
                        "count": 11
                      },
                      {
                        "bin_start": 4.331040923180143,
                        "bin_end": 5.16523858652993,
                        "count": 12
                      },
                      {
                        "bin_start": 5.16523858652993,
                        "bin_end": 5.999436249879717,
                        "count": 16
                      },
                      {
                        "bin_start": 5.999436249879717,
                        "bin_end": 6.833633913229504,
                        "count": 23
                      },
                      {
                        "bin_start": 6.833633913229504,
                        "bin_end": 7.6678315765792915,
                        "count": 13
                      },
                      {
                        "bin_start": 7.6678315765792915,
                        "bin_end": 8.50202923992908,
                        "count": 8
                      }
                    ]
                  }
                },
                {
                  "name": "_deepnote_index_column",
                  "dtype": "int64"
                }
              ],
              "rows_top": [
                {
                  "x": 6.550560798767798,
                  "y": 0.9187464409731698,
                  "z": 5.056359379601763,
                  "_deepnote_index_column": 0
                },
                {
                  "x": 11.314821126764748,
                  "y": 0.6753988216785113,
                  "z": 2.0486550869903746,
                  "_deepnote_index_column": 1
                },
                {
                  "x": 0.0017965939121126,
                  "y": 0.2503245883640072,
                  "z": 4.4293423298875165,
                  "_deepnote_index_column": 2
                },
                {
                  "x": 4.749024934272308,
                  "y": -0.6445455251153381,
                  "z": 0.5659930991037203,
                  "_deepnote_index_column": 3
                },
                {
                  "x": 2.3052341951606707,
                  "y": 0.0240390951591193,
                  "z": 6.768185643055012,
                  "_deepnote_index_column": 4
                },
                {
                  "x": 1.4504500296985374,
                  "y": 0.1849683159891048,
                  "z": 6.474787649107212,
                  "_deepnote_index_column": 5
                },
                {
                  "x": 2.925766087309886,
                  "y": 0.2739345961668351,
                  "z": 4.277521207704595,
                  "_deepnote_index_column": 6
                },
                {
                  "x": 5.428050622355842,
                  "y": -0.2381841320337567,
                  "z": 1.5659069208785203,
                  "_deepnote_index_column": 7
                },
                {
                  "x": 6.232403646841652,
                  "y": 0.3996204959015534,
                  "z": 5.118992836183952,
                  "_deepnote_index_column": 8
                },
                {
                  "x": 8.46370631688803,
                  "y": -0.1232682962556401,
                  "z": 6.577485679028611,
                  "_deepnote_index_column": 9
                },
                {
                  "x": 6.584686472521235,
                  "y": 0.1463353372372085,
                  "z": 6.043185684431653,
                  "_deepnote_index_column": 10
                },
                {
                  "x": 10.763393651257278,
                  "y": 0.6430028177820092,
                  "z": 1.8297583727212552,
                  "_deepnote_index_column": 11
                },
                {
                  "x": 3.2115257161701893,
                  "y": -0.0952709471659565,
                  "z": 4.9981393368254015,
                  "_deepnote_index_column": 12
                },
                {
                  "x": 13.793424784957152,
                  "y": -0.1363313132808393,
                  "z": 6.969995588983912,
                  "_deepnote_index_column": 13
                },
                {
                  "x": 0.4302029445733643,
                  "y": 0.1950376824395933,
                  "z": 6.554895230388166,
                  "_deepnote_index_column": 14
                },
                {
                  "x": 10.531670126506834,
                  "y": 0.6956292111571579,
                  "z": 0.4525665348380601,
                  "_deepnote_index_column": 15
                },
                {
                  "x": 6.555002970342712,
                  "y": 0.02758792197169,
                  "z": 4.492965665739649,
                  "_deepnote_index_column": 16
                },
                {
                  "x": 8.775871890734445,
                  "y": 0.1892965564083822,
                  "z": 5.86799614321011,
                  "_deepnote_index_column": 17
                },
                {
                  "x": 2.205191012107002,
                  "y": -0.2601420089193939,
                  "z": 5.6813125188615095,
                  "_deepnote_index_column": 18
                },
                {
                  "x": 3.1117682854708217,
                  "y": -0.3116427820136555,
                  "z": 4.133787434566028,
                  "_deepnote_index_column": 19
                },
                {
                  "x": 12.578055647526895,
                  "y": -0.3110650835335664,
                  "z": 3.3605669573653176,
                  "_deepnote_index_column": 20
                },
                {
                  "x": 15.20940441832151,
                  "y": 0.2490251188518185,
                  "z": 5.965419383929037,
                  "_deepnote_index_column": 21
                },
                {
                  "x": 4.923251319316479,
                  "y": 0.1710248295073333,
                  "z": 1.798508822683321,
                  "_deepnote_index_column": 22
                },
                {
                  "x": 10.874969030802802,
                  "y": 0.0296038402383649,
                  "z": 0.1600526064312069,
                  "_deepnote_index_column": 23
                },
                {
                  "x": 13.766276984808556,
                  "y": -0.1812674413092434,
                  "z": 6.797456448110435,
                  "_deepnote_index_column": 24
                },
                {
                  "x": 14.05243673998526,
                  "y": 0.2416614564320286,
                  "z": 5.657968637674859,
                  "_deepnote_index_column": 25
                },
                {
                  "x": 1.335870219985903,
                  "y": 0.9540823257941566,
                  "z": 7.535203982607003,
                  "_deepnote_index_column": 26
                },
                {
                  "x": 0.6134705822829545,
                  "y": -0.0495533316882288,
                  "z": 6.030492343418163,
                  "_deepnote_index_column": 27
                },
                {
                  "x": 2.66768773899927,
                  "y": -0.1296774693032486,
                  "z": 4.190481825018976,
                  "_deepnote_index_column": 28
                },
                {
                  "x": 13.79381853674405,
                  "y": 0.1243016924321612,
                  "z": 7.360862064540675,
                  "_deepnote_index_column": 29
                },
                {
                  "x": 1.5448271485078593,
                  "y": 0.9846513245607036,
                  "z": 7.798003522589981,
                  "_deepnote_index_column": 30
                },
                {
                  "x": 6.614737518198109,
                  "y": -0.126449474995155,
                  "z": 4.681238202671476,
                  "_deepnote_index_column": 31
                },
                {
                  "x": 15.046480845127578,
                  "y": -0.7260251079936878,
                  "z": 5.401605643101238,
                  "_deepnote_index_column": 32
                },
                {
                  "x": 8.374933638091903,
                  "y": 0.2736998000286181,
                  "z": 6.788965998074096,
                  "_deepnote_index_column": 33
                },
                {
                  "x": 10.867971112078338,
                  "y": 0.0128130112693638,
                  "z": 0.92723866868576,
                  "_deepnote_index_column": 34
                },
                {
                  "x": 4.956103756061687,
                  "y": 0.0785080830185303,
                  "z": 2.494212199787892,
                  "_deepnote_index_column": 35
                },
                {
                  "x": 10.783522246975933,
                  "y": 0.3629804642433742,
                  "z": 1.4277631135544284,
                  "_deepnote_index_column": 36
                },
                {
                  "x": 13.11025832288034,
                  "y": -0.8539339266028914,
                  "z": 4.198620831847935,
                  "_deepnote_index_column": 37
                },
                {
                  "x": 0.2872713461086977,
                  "y": 0.3267388704996579,
                  "z": 4.597871206175957,
                  "_deepnote_index_column": 38
                },
                {
                  "x": 11.783229391939802,
                  "y": 0.4736685239695546,
                  "z": 2.1584207645806712,
                  "_deepnote_index_column": 39
                },
                {
                  "x": 15.532980541488774,
                  "y": -0.081792225661237,
                  "z": 5.270942829681554,
                  "_deepnote_index_column": 40
                },
                {
                  "x": 11.7521486907158,
                  "y": -0.0443377843430087,
                  "z": 0.7625346657409955,
                  "_deepnote_index_column": 41
                },
                {
                  "x": 4.405200205148073,
                  "y": 0.5657930906060263,
                  "z": 2.1494079724038704,
                  "_deepnote_index_column": 42
                },
                {
                  "x": 12.39796022734956,
                  "y": -0.5666580006700171,
                  "z": 2.9589619897030284,
                  "_deepnote_index_column": 43
                },
                {
                  "x": 1.621468950021272,
                  "y": 0.2694053829479378,
                  "z": 6.551011620845837,
                  "_deepnote_index_column": 44
                },
                {
                  "x": 7.035489114494809,
                  "y": -0.308917769331561,
                  "z": 4.840282350338811,
                  "_deepnote_index_column": 45
                },
                {
                  "x": 14.27217273281119,
                  "y": -0.0375508141069324,
                  "z": 6.875867856777922,
                  "_deepnote_index_column": 46
                },
                {
                  "x": 4.612076361946339,
                  "y": -0.0679096093007017,
                  "z": 1.539591678931809,
                  "_deepnote_index_column": 47
                },
                {
                  "x": 4.520360629747437,
                  "y": -0.2164578523175584,
                  "z": 2.4783178486479427,
                  "_deepnote_index_column": 48
                },
                {
                  "x": 2.0424823094053,
                  "y": 0.2151790451859529,
                  "z": 6.192571187459833,
                  "_deepnote_index_column": 49
                },
                {
                  "x": 0.3042152058787329,
                  "y": 0.1565130618901327,
                  "z": 5.356530538424947,
                  "_deepnote_index_column": 50
                },
                {
                  "x": 10.66311460964316,
                  "y": 0.884765949666019,
                  "z": 1.4521188446722455,
                  "_deepnote_index_column": 51
                },
                {
                  "x": 3.3242438647231274,
                  "y": -0.0648978504282854,
                  "z": 3.930364560098541,
                  "_deepnote_index_column": 52
                },
                {
                  "x": 4.171193648085961,
                  "y": 0.1164712631105836,
                  "z": 2.6638994947203125,
                  "_deepnote_index_column": 53
                },
                {
                  "x": 7.72160660731759,
                  "y": 0.043225062033903,
                  "z": 7.092861478792576,
                  "_deepnote_index_column": 54
                },
                {
                  "x": 0.8382161905718428,
                  "y": -0.0798131661335889,
                  "z": 6.974219362507826,
                  "_deepnote_index_column": 55
                },
                {
                  "x": 9.018210641188269,
                  "y": 0.0931329194908631,
                  "z": 5.365875883078245,
                  "_deepnote_index_column": 56
                },
                {
                  "x": 2.3048051181917204,
                  "y": 0.0621573054529897,
                  "z": 7.28146561968767,
                  "_deepnote_index_column": 57
                },
                {
                  "x": 9.256781908399944,
                  "y": 0.2374900611708348,
                  "z": 5.476479960241253,
                  "_deepnote_index_column": 58
                },
                {
                  "x": 10.991769331290786,
                  "y": -0.5402230861616019,
                  "z": 1.402691103092414,
                  "_deepnote_index_column": 59
                },
                {
                  "x": 1.607464091306047,
                  "y": 0.3322258678301381,
                  "z": 7.677138337378958,
                  "_deepnote_index_column": 60
                },
                {
                  "x": 6.503970753870388,
                  "y": 0.0452872161940373,
                  "z": 4.016000512728461,
                  "_deepnote_index_column": 61
                },
                {
                  "x": 10.907602957579536,
                  "y": -0.4970982861058311,
                  "z": 1.176294017922999,
                  "_deepnote_index_column": 62
                },
                {
                  "x": 6.50590725676511,
                  "y": 0.6397932299369863,
                  "z": 5.854426081767263,
                  "_deepnote_index_column": 63
                },
                {
                  "x": 0.7846664354521898,
                  "y": 0.9897677632499152,
                  "z": 6.0960138333921,
                  "_deepnote_index_column": 64
                },
                {
                  "x": 8.41783394930056,
                  "y": -0.1329299386213467,
                  "z": 7.245846712058011,
                  "_deepnote_index_column": 65
                },
                {
                  "x": 10.426853097380182,
                  "y": 0.3108586076308603,
                  "z": 1.3432851537251134,
                  "_deepnote_index_column": 66
                },
                {
                  "x": 8.087852427756308,
                  "y": 0.0361404719351221,
                  "z": 8.049468455327037,
                  "_deepnote_index_column": 67
                },
                {
                  "x": 14.837647197365897,
                  "y": -0.0746389897501448,
                  "z": 6.010400722404036,
                  "_deepnote_index_column": 68
                },
                {
                  "x": 9.21357724845328,
                  "y": 0.2973034276772741,
                  "z": 5.253665255232113,
                  "_deepnote_index_column": 69
                },
                {
                  "x": 14.190592115246307,
                  "y": -0.167671226549312,
                  "z": 6.856714647912485,
                  "_deepnote_index_column": 70
                },
                {
                  "x": 2.159445778993892,
                  "y": 0.001984182825851,
                  "z": 7.614615872590622,
                  "_deepnote_index_column": 71
                },
                {
                  "x": 2.187745898797553,
                  "y": -0.3334229064297815,
                  "z": 8.061861346556487,
                  "_deepnote_index_column": 72
                },
                {
                  "x": 12.682461993484765,
                  "y": -0.1517435565052172,
                  "z": 3.923562103351757,
                  "_deepnote_index_column": 73
                },
                {
                  "x": 6.2466878715269125,
                  "y": -0.2174489958162448,
                  "z": 2.985382131206652,
                  "_deepnote_index_column": 74
                },
                {
                  "x": 2.597375460602924,
                  "y": 0.4334470522532556,
                  "z": 6.702204935166403,
                  "_deepnote_index_column": 75
                },
                {
                  "x": 14.56925840543188,
                  "y": 0.0487224342637103,
                  "z": 6.50946550020316,
                  "_deepnote_index_column": 76
                },
                {
                  "x": 5.462688736589429,
                  "y": 0.2614561029664723,
                  "z": 2.8926746896346014,
                  "_deepnote_index_column": 77
                },
                {
                  "x": 11.793718975457574,
                  "y": -0.0356619790746114,
                  "z": 2.703405828779789,
                  "_deepnote_index_column": 78
                },
                {
                  "x": 11.403940053985623,
                  "y": 0.3603486583630568,
                  "z": 1.4211374625206972,
                  "_deepnote_index_column": 79
                },
                {
                  "x": 13.8749279153563,
                  "y": 0.5609946629903387,
                  "z": 6.462112006430558,
                  "_deepnote_index_column": 80
                },
                {
                  "x": 9.796611844819152,
                  "y": 0.0870730198980963,
                  "z": 3.1211215747668137,
                  "_deepnote_index_column": 81
                },
                {
                  "x": 11.795766206579712,
                  "y": -0.03343978318225,
                  "z": 1.8975114199476084,
                  "_deepnote_index_column": 82
                },
                {
                  "x": 5.480477710870852,
                  "y": -0.735190249628481,
                  "z": 0.6196623444974492,
                  "_deepnote_index_column": 83
                },
                {
                  "x": 4.240013827450442,
                  "y": -0.0824249646677546,
                  "z": 0.6739954654877963,
                  "_deepnote_index_column": 84
                },
                {
                  "x": 14.072535921112909,
                  "y": 0.0168621768919425,
                  "z": 7.672372476437117,
                  "_deepnote_index_column": 85
                },
                {
                  "x": 6.724435005938807,
                  "y": -0.561824243473285,
                  "z": 4.090268469690574,
                  "_deepnote_index_column": 86
                },
                {
                  "x": 15.155659218604484,
                  "y": 0.791876210652898,
                  "z": 5.856928331022624,
                  "_deepnote_index_column": 87
                },
                {
                  "x": 10.421305875657293,
                  "y": -0.2376077678121704,
                  "z": 1.1942055012325783,
                  "_deepnote_index_column": 88
                },
                {
                  "x": 9.765565288258877,
                  "y": 0.395286575995992,
                  "z": 2.2795714306211643,
                  "_deepnote_index_column": 89
                },
                {
                  "x": 1.8024240058529697,
                  "y": 0.0732416277698267,
                  "z": 7.026031701482286,
                  "_deepnote_index_column": 90
                },
                {
                  "x": 14.91452980130774,
                  "y": 0.3695971971204414,
                  "z": 6.026893702918231,
                  "_deepnote_index_column": 91
                },
                {
                  "x": 7.067197297096232,
                  "y": 0.2132687931198381,
                  "z": 7.040334632069285,
                  "_deepnote_index_column": 92
                },
                {
                  "x": 9.085315143312346,
                  "y": -0.2340532152352852,
                  "z": 4.821329411909312,
                  "_deepnote_index_column": 93
                },
                {
                  "x": 6.410992490934067,
                  "y": -0.2242147673548523,
                  "z": 3.8727994500439946,
                  "_deepnote_index_column": 94
                },
                {
                  "x": 3.7232079543084673,
                  "y": 0.0563092723634756,
                  "z": 2.131623409794466,
                  "_deepnote_index_column": 95
                },
                {
                  "x": 14.190240340015857,
                  "y": 0.7070403815802011,
                  "z": 8.50202923992908,
                  "_deepnote_index_column": 96
                },
                {
                  "x": 9.011328692673931,
                  "y": -0.31510949658677,
                  "z": 4.945816047445232,
                  "_deepnote_index_column": 97
                },
                {
                  "x": 0.0450869534890935,
                  "y": -0.0246888263361874,
                  "z": 5.357734714029609,
                  "_deepnote_index_column": 98
                },
                {
                  "x": 9.69408144590865,
                  "y": 0.0953707166759554,
                  "z": 3.721506186957957,
                  "_deepnote_index_column": 99
                },
                {
                  "x": 5.130921784790998,
                  "y": 0.0299089799565238,
                  "z": 1.3266718159227688,
                  "_deepnote_index_column": 100
                },
                {
                  "x": 8.279002317357413,
                  "y": 0.1353219058070276,
                  "z": 6.639532619915815,
                  "_deepnote_index_column": 101
                },
                {
                  "x": 13.91633419886868,
                  "y": 0.111230650436337,
                  "z": 8.407707133118793,
                  "_deepnote_index_column": 102
                },
                {
                  "x": 5.611975526631267,
                  "y": 0.489586352970194,
                  "z": 2.352139604091485,
                  "_deepnote_index_column": 103
                },
                {
                  "x": 14.27122472389066,
                  "y": -0.5721994454185987,
                  "z": 6.249701166280119,
                  "_deepnote_index_column": 104
                },
                {
                  "x": 9.791709530851849,
                  "y": 0.3417771607653194,
                  "z": 2.558526624149308,
                  "_deepnote_index_column": 105
                },
                {
                  "x": 0.2485192915715637,
                  "y": 0.6027402565381982,
                  "z": 5.211572314768331,
                  "_deepnote_index_column": 106
                },
                {
                  "x": 14.599553595785316,
                  "y": 0.2093335765975935,
                  "z": 7.774975324204901,
                  "_deepnote_index_column": 107
                },
                {
                  "x": 10.852574235509966,
                  "y": 0.1661245016833582,
                  "z": 1.585644661942624,
                  "_deepnote_index_column": 108
                },
                {
                  "x": 15.665897468749334,
                  "y": 0.2333550134590012,
                  "z": 5.1340307394043805,
                  "_deepnote_index_column": 109
                },
                {
                  "x": 2.707116088063004,
                  "y": 0.3037850546874492,
                  "z": 6.139163499818934,
                  "_deepnote_index_column": 110
                },
                {
                  "x": 2.1541214983829304,
                  "y": 0.1650760703883797,
                  "z": 7.383931295925247,
                  "_deepnote_index_column": 111
                },
                {
                  "x": 14.649162903614611,
                  "y": 0.4671347329225358,
                  "z": 6.756759329576122,
                  "_deepnote_index_column": 112
                },
                {
                  "x": 10.945584839775275,
                  "y": -0.4849959110476755,
                  "z": 1.4570872796657086,
                  "_deepnote_index_column": 113
                },
                {
                  "x": 1.0367274131095214,
                  "y": -0.8626821040683654,
                  "z": 5.513260502558746,
                  "_deepnote_index_column": 114
                },
                {
                  "x": 11.866775857126912,
                  "y": -0.3594670497385796,
                  "z": 0.9623791636187868,
                  "_deepnote_index_column": 115
                },
                {
                  "x": 11.841849474539837,
                  "y": -0.682695101591271,
                  "z": 1.5937713930303197,
                  "_deepnote_index_column": 116
                },
                {
                  "x": 14.498823253137385,
                  "y": -0.6180308272127227,
                  "z": 6.134750691523218,
                  "_deepnote_index_column": 117
                },
                {
                  "x": 11.176595332298104,
                  "y": 0.4029570112451244,
                  "z": 0.8958987962425512,
                  "_deepnote_index_column": 118
                },
                {
                  "x": 1.9520420571106645,
                  "y": -0.6035662798886411,
                  "z": 5.739645480076681,
                  "_deepnote_index_column": 119
                },
                {
                  "x": 0.3122761483488171,
                  "y": 0.1643083812118537,
                  "z": 6.155835445992228,
                  "_deepnote_index_column": 120
                },
                {
                  "x": 0.4117208713258705,
                  "y": -0.0241893367513398,
                  "z": 4.9410314072339805,
                  "_deepnote_index_column": 121
                },
                {
                  "x": 0.4446368985062406,
                  "y": -0.4115841941505509,
                  "z": 6.099824009373123,
                  "_deepnote_index_column": 122
                },
                {
                  "x": 3.8674711393552648,
                  "y": 0.2427761322131374,
                  "z": 1.3532692853500743,
                  "_deepnote_index_column": 123
                },
                {
                  "x": 13.509276016513372,
                  "y": -0.7465801846634721,
                  "z": 3.636826641601723,
                  "_deepnote_index_column": 124
                }
              ],
              "rows_bottom": null
            },
            "text/plain": "             x         y         z\n0     6.550561  0.918746  5.056359\n1    11.314821  0.675399  2.048655\n2     0.001797  0.250325  4.429342\n3     4.749025 -0.644546  0.565993\n4     2.305234  0.024039  6.768186\n..         ...       ...       ...\n120   0.312276  0.164308  6.155835\n121   0.411721 -0.024189  4.941031\n122   0.444637 -0.411584  6.099824\n123   3.867471  0.242776  1.353269\n124  13.509276 -0.746580  3.636827\n\n[125 rows x 3 columns]",
            "text/html": "<div>\n<style scoped>\n    .dataframe tbody tr th:only-of-type {\n        vertical-align: middle;\n    }\n\n    .dataframe tbody tr th {\n        vertical-align: top;\n    }\n\n    .dataframe thead th {\n        text-align: right;\n    }\n</style>\n<table border=\"1\" class=\"dataframe\">\n  <thead>\n    <tr style=\"text-align: right;\">\n      <th></th>\n      <th>x</th>\n      <th>y</th>\n      <th>z</th>\n    </tr>\n  </thead>\n  <tbody>\n    <tr>\n      <th>0</th>\n      <td>6.550561</td>\n      <td>0.918746</td>\n      <td>5.056359</td>\n    </tr>\n    <tr>\n      <th>1</th>\n      <td>11.314821</td>\n      <td>0.675399</td>\n      <td>2.048655</td>\n    </tr>\n    <tr>\n      <th>2</th>\n      <td>0.001797</td>\n      <td>0.250325</td>\n      <td>4.429342</td>\n    </tr>\n    <tr>\n      <th>3</th>\n      <td>4.749025</td>\n      <td>-0.644546</td>\n      <td>0.565993</td>\n    </tr>\n    <tr>\n      <th>4</th>\n      <td>2.305234</td>\n      <td>0.024039</td>\n      <td>6.768186</td>\n    </tr>\n    <tr>\n      <th>...</th>\n      <td>...</td>\n      <td>...</td>\n      <td>...</td>\n    </tr>\n    <tr>\n      <th>120</th>\n      <td>0.312276</td>\n      <td>0.164308</td>\n      <td>6.155835</td>\n    </tr>\n    <tr>\n      <th>121</th>\n      <td>0.411721</td>\n      <td>-0.024189</td>\n      <td>4.941031</td>\n    </tr>\n    <tr>\n      <th>122</th>\n      <td>0.444637</td>\n      <td>-0.411584</td>\n      <td>6.099824</td>\n    </tr>\n    <tr>\n      <th>123</th>\n      <td>3.867471</td>\n      <td>0.242776</td>\n      <td>1.353269</td>\n    </tr>\n    <tr>\n      <th>124</th>\n      <td>13.509276</td>\n      <td>-0.746580</td>\n      <td>3.636827</td>\n    </tr>\n  </tbody>\n</table>\n<p>125 rows × 3 columns</p>\n</div>"
          },
          "metadata": {}
        }
      ]
    },
    {
      "cell_type": "code",
      "metadata": {
        "tags": [],
        "cell_id": "00002-d4f1bf8c-8f71-42ce-8d90-1b1a7558eda2",
        "deepnote_to_be_reexecuted": false,
        "source_hash": "b3035768",
        "execution_start": 1618281311191,
        "execution_millis": 246,
        "is_code_hidden": true,
        "deepnote_cell_type": "code"
      },
      "source": "import matplotlib.pyplot as plt\n\ndef plot3Ddata(data_df):\n    x = data_df['x']\n    y = data_df['y']\n    z = data_df['z']\n\n    fig = plt.figure(figsize=(19,19))\n\n    ax = [0,0,0,0]\n    \n    for i in range(4):\n        ax[i] = fig.add_subplot(2,2,i+1, projection='3d')\n        ax[i].scatter3D(x, y, z, c=z, cmap='jet')\n\n        ax[i].set_xlabel('x')\n        ax[i].set_ylabel('y')\n        ax[i].set_zlabel('z')\n        ax[i].set_xlim(0, 14)\n        ax[i].set_ylim(-6, 6)\n        ax[i].set_zlim(0, 8)\n        \n    # Change the perspective of each plot to match the images given\n    ax[0].view_init(0,90)\n    ax[1].view_init(25,0)\n    ax[2].view_init(20,45)\n    ax[3].view_init(15,30)",
      "execution_count": null,
      "outputs": []
    },
    {
      "cell_type": "code",
      "metadata": {
        "tags": [],
        "cell_id": "00003-6044ac63-f9b7-400a-b0ec-c1bcfbd8dbd1",
        "deepnote_to_be_reexecuted": false,
        "source_hash": "f2dca5d5",
        "execution_start": 1618281348428,
        "execution_millis": 1128,
        "deepnote_cell_type": "code"
      },
      "source": "plot3Ddata(df)",
      "execution_count": null,
      "outputs": [
        {
          "data": {
            "text/plain": "<Figure size 1368x1368 with 4 Axes>",
            "image/png": "[encoded data removed]"
          },
          "metadata": {
            "needs_background": "light"
          },
          "output_type": "display_data"
        }
      ]
    },
    {
      "cell_type": "code",
      "metadata": {
        "tags": [],
        "deepnote_variable_name": "df_1",
        "sql_integration_id": "e18d2350-a03d-4f1b-8923-26ed968a9cf5",
        "cell_id": "00008-c4fa519a-9ae7-4b8e-8c81-cffe40379bbd",
        "deepnote_to_be_reexecuted": false,
        "source_hash": "a37961d2",
        "execution_start": 1618283766475,
        "execution_millis": 6299,
        "deepnote_cell_type": "sql"
      },
      "source": "SELECT *\nFROM `bigquery-public-data.noaa_lightning.lightning_1987` \nLIMIT 1000",
      "execution_count": 1,
      "outputs": [
        {
          "output_type": "execute_result",
          "execution_count": 1,
          "data": {
            "application/vnd.deepnote.dataframe.v2+json": {
              "row_count": 1000,
              "column_count": 3,
              "columns": [
                {
                  "name": "date",
                  "dtype": "object",
                  "stats": {
                    "unique_count": 33,
                    "nan_count": 0,
                    "categories": [
                      {
                        "name": "1987-03-26",
                        "count": 178
                      },
                      {
                        "name": "1987-03-18",
                        "count": 130
                      },
                      {
                        "name": "31 others",
                        "count": 692
                      }
                    ]
                  }
                },
                {
                  "name": "number_of_strikes",
                  "dtype": "int64",
                  "stats": {
                    "unique_count": 59,
                    "nan_count": 0,
                    "min": 17,
                    "max": 141,
                    "histogram": [
                      {
                        "bin_start": 17,
                        "bin_end": 29.4,
                        "count": 791
                      },
                      {
                        "bin_start": 29.4,
                        "bin_end": 41.8,
                        "count": 139
                      },
                      {
                        "bin_start": 41.8,
                        "bin_end": 54.2,
                        "count": 44
                      },
                      {
                        "bin_start": 54.2,
                        "bin_end": 66.6,
                        "count": 15
                      },
                      {
                        "bin_start": 66.6,
                        "bin_end": 79,
                        "count": 5
                      },
                      {
                        "bin_start": 79,
                        "bin_end": 91.4,
                        "count": 2
                      },
                      {
                        "bin_start": 91.4,
                        "bin_end": 103.8,
                        "count": 2
                      },
                      {
                        "bin_start": 103.8,
                        "bin_end": 116.2,
                        "count": 1
                      },
                      {
                        "bin_start": 116.2,
                        "bin_end": 128.60000000000002,
                        "count": 0
                      },
                      {
                        "bin_start": 128.60000000000002,
                        "bin_end": 141,
                        "count": 1
                      }
                    ]
                  }
                },
                {
                  "name": "center_point_geom",
                  "dtype": "object",
                  "stats": {
                    "unique_count": 940,
                    "nan_count": 0,
                    "categories": [
                      {
                        "name": "POINT(-83.2 28.3)",
                        "count": 3
                      },
                      {
                        "name": "POINT(-83.2 28.8)",
                        "count": 3
                      },
                      {
                        "name": "938 others",
                        "count": 994
                      }
                    ]
                  }
                },
                {
                  "name": "_deepnote_index_column",
                  "dtype": "int64"
                }
              ],
              "rows_top": [
                {
                  "date": "1987-01-01",
                  "number_of_strikes": 21,
                  "center_point_geom": "POINT(-80.7 26)",
                  "_deepnote_index_column": 0
                },
                {
                  "date": "1987-01-04",
                  "number_of_strikes": 23,
                  "center_point_geom": "POINT(-83.2 28.3)",
                  "_deepnote_index_column": 1
                },
                {
                  "date": "1987-01-05",
                  "number_of_strikes": 40,
                  "center_point_geom": "POINT(-78.9 31.3)",
                  "_deepnote_index_column": 2
                },
                {
                  "date": "1987-01-05",
                  "number_of_strikes": 20,
                  "center_point_geom": "POINT(-79.2 31.4)",
                  "_deepnote_index_column": 3
                },
                {
                  "date": "1987-01-05",
                  "number_of_strikes": 21,
                  "center_point_geom": "POINT(-80.1 31.4)",
                  "_deepnote_index_column": 4
                },
                {
                  "date": "1987-01-05",
                  "number_of_strikes": 18,
                  "center_point_geom": "POINT(-79.4 31.5)",
                  "_deepnote_index_column": 5
                },
                {
                  "date": "1987-01-05",
                  "number_of_strikes": 20,
                  "center_point_geom": "POINT(-78.8 31.3)",
                  "_deepnote_index_column": 6
                },
                {
                  "date": "1987-01-05",
                  "number_of_strikes": 35,
                  "center_point_geom": "POINT(-80 31.4)",
                  "_deepnote_index_column": 7
                },
                {
                  "date": "1987-01-17",
                  "number_of_strikes": 20,
                  "center_point_geom": "POINT(-77.4 31.9)",
                  "_deepnote_index_column": 8
                },
                {
                  "date": "1987-01-17",
                  "number_of_strikes": 17,
                  "center_point_geom": "POINT(-77 31.9)",
                  "_deepnote_index_column": 9
                },
                {
                  "date": "1987-01-17",
                  "number_of_strikes": 20,
                  "center_point_geom": "POINT(-77.2 31.8)",
                  "_deepnote_index_column": 10
                },
                {
                  "date": "1987-01-17",
                  "number_of_strikes": 24,
                  "center_point_geom": "POINT(-77.4 31.8)",
                  "_deepnote_index_column": 11
                },
                {
                  "date": "1987-01-25",
                  "number_of_strikes": 17,
                  "center_point_geom": "POINT(-91.2 32)",
                  "_deepnote_index_column": 12
                },
                {
                  "date": "1987-01-25",
                  "number_of_strikes": 20,
                  "center_point_geom": "POINT(-91.6 32.5)",
                  "_deepnote_index_column": 13
                },
                {
                  "date": "1987-01-25",
                  "number_of_strikes": 17,
                  "center_point_geom": "POINT(-91.7 32.1)",
                  "_deepnote_index_column": 14
                },
                {
                  "date": "1987-01-31",
                  "number_of_strikes": 17,
                  "center_point_geom": "POINT(-76.8 32.4)",
                  "_deepnote_index_column": 15
                },
                {
                  "date": "1987-01-31",
                  "number_of_strikes": 20,
                  "center_point_geom": "POINT(-76.1 32.5)",
                  "_deepnote_index_column": 16
                },
                {
                  "date": "1987-01-31",
                  "number_of_strikes": 17,
                  "center_point_geom": "POINT(-78.2 31.9)",
                  "_deepnote_index_column": 17
                },
                {
                  "date": "1987-01-31",
                  "number_of_strikes": 17,
                  "center_point_geom": "POINT(-76.7 32.5)",
                  "_deepnote_index_column": 18
                },
                {
                  "date": "1987-02-06",
                  "number_of_strikes": 32,
                  "center_point_geom": "POINT(-80.4 28.9)",
                  "_deepnote_index_column": 19
                },
                {
                  "date": "1987-02-06",
                  "number_of_strikes": 19,
                  "center_point_geom": "POINT(-79 25.4)",
                  "_deepnote_index_column": 20
                },
                {
                  "date": "1987-02-06",
                  "number_of_strikes": 26,
                  "center_point_geom": "POINT(-79.2 27.4)",
                  "_deepnote_index_column": 21
                },
                {
                  "date": "1987-02-06",
                  "number_of_strikes": 38,
                  "center_point_geom": "POINT(-79 27.4)",
                  "_deepnote_index_column": 22
                },
                {
                  "date": "1987-02-06",
                  "number_of_strikes": 36,
                  "center_point_geom": "POINT(-79.1 27.3)",
                  "_deepnote_index_column": 23
                },
                {
                  "date": "1987-02-06",
                  "number_of_strikes": 32,
                  "center_point_geom": "POINT(-79.2 27.3)",
                  "_deepnote_index_column": 24
                },
                {
                  "date": "1987-02-06",
                  "number_of_strikes": 17,
                  "center_point_geom": "POINT(-79.6 27.2)",
                  "_deepnote_index_column": 25
                },
                {
                  "date": "1987-02-06",
                  "number_of_strikes": 45,
                  "center_point_geom": "POINT(-79.1 27.4)",
                  "_deepnote_index_column": 26
                },
                {
                  "date": "1987-02-06",
                  "number_of_strikes": 30,
                  "center_point_geom": "POINT(-78.9 27.4)",
                  "_deepnote_index_column": 27
                },
                {
                  "date": "1987-02-14",
                  "number_of_strikes": 20,
                  "center_point_geom": "POINT(-86.4 35.3)",
                  "_deepnote_index_column": 28
                },
                {
                  "date": "1987-02-14",
                  "number_of_strikes": 17,
                  "center_point_geom": "POINT(-89.8 35.4)",
                  "_deepnote_index_column": 29
                },
                {
                  "date": "1987-02-14",
                  "number_of_strikes": 19,
                  "center_point_geom": "POINT(-89.9 35.4)",
                  "_deepnote_index_column": 30
                },
                {
                  "date": "1987-02-14",
                  "number_of_strikes": 21,
                  "center_point_geom": "POINT(-87.3 35.2)",
                  "_deepnote_index_column": 31
                },
                {
                  "date": "1987-02-15",
                  "number_of_strikes": 17,
                  "center_point_geom": "POINT(-89.1 29.1)",
                  "_deepnote_index_column": 32
                },
                {
                  "date": "1987-02-15",
                  "number_of_strikes": 20,
                  "center_point_geom": "POINT(-88.5 29.4)",
                  "_deepnote_index_column": 33
                },
                {
                  "date": "1987-02-15",
                  "number_of_strikes": 28,
                  "center_point_geom": "POINT(-91.9 29.7)",
                  "_deepnote_index_column": 34
                },
                {
                  "date": "1987-02-15",
                  "number_of_strikes": 17,
                  "center_point_geom": "POINT(-89.5 30.6)",
                  "_deepnote_index_column": 35
                },
                {
                  "date": "1987-02-15",
                  "number_of_strikes": 20,
                  "center_point_geom": "POINT(-88.6 29.4)",
                  "_deepnote_index_column": 36
                },
                {
                  "date": "1987-02-15",
                  "number_of_strikes": 25,
                  "center_point_geom": "POINT(-89.6 30.5)",
                  "_deepnote_index_column": 37
                },
                {
                  "date": "1987-02-15",
                  "number_of_strikes": 20,
                  "center_point_geom": "POINT(-89.6 30.6)",
                  "_deepnote_index_column": 38
                },
                {
                  "date": "1987-02-15",
                  "number_of_strikes": 23,
                  "center_point_geom": "POINT(-89.2 30.7)",
                  "_deepnote_index_column": 39
                },
                {
                  "date": "1987-02-16",
                  "number_of_strikes": 30,
                  "center_point_geom": "POINT(-83.9 29.1)",
                  "_deepnote_index_column": 40
                },
                {
                  "date": "1987-02-16",
                  "number_of_strikes": 20,
                  "center_point_geom": "POINT(-79.4 30.3)",
                  "_deepnote_index_column": 41
                },
                {
                  "date": "1987-02-16",
                  "number_of_strikes": 17,
                  "center_point_geom": "POINT(-84.5 28.9)",
                  "_deepnote_index_column": 42
                },
                {
                  "date": "1987-02-16",
                  "number_of_strikes": 21,
                  "center_point_geom": "POINT(-84.1 29.1)",
                  "_deepnote_index_column": 43
                },
                {
                  "date": "1987-02-16",
                  "number_of_strikes": 20,
                  "center_point_geom": "POINT(-84.2 29)",
                  "_deepnote_index_column": 44
                },
                {
                  "date": "1987-02-16",
                  "number_of_strikes": 17,
                  "center_point_geom": "POINT(-84 29.1)",
                  "_deepnote_index_column": 45
                },
                {
                  "date": "1987-02-16",
                  "number_of_strikes": 19,
                  "center_point_geom": "POINT(-83 29.3)",
                  "_deepnote_index_column": 46
                },
                {
                  "date": "1987-02-16",
                  "number_of_strikes": 18,
                  "center_point_geom": "POINT(-84.1 29)",
                  "_deepnote_index_column": 47
                },
                {
                  "date": "1987-02-16",
                  "number_of_strikes": 45,
                  "center_point_geom": "POINT(-84.3 29)",
                  "_deepnote_index_column": 48
                },
                {
                  "date": "1987-02-16",
                  "number_of_strikes": 20,
                  "center_point_geom": "POINT(-84.2 29.1)",
                  "_deepnote_index_column": 49
                },
                {
                  "date": "1987-02-16",
                  "number_of_strikes": 19,
                  "center_point_geom": "POINT(-82 29.4)",
                  "_deepnote_index_column": 50
                },
                {
                  "date": "1987-02-16",
                  "number_of_strikes": 20,
                  "center_point_geom": "POINT(-84.8 28.9)",
                  "_deepnote_index_column": 51
                },
                {
                  "date": "1987-02-16",
                  "number_of_strikes": 21,
                  "center_point_geom": "POINT(-78 28.5)",
                  "_deepnote_index_column": 52
                },
                {
                  "date": "1987-02-16",
                  "number_of_strikes": 19,
                  "center_point_geom": "POINT(-77.9 28.5)",
                  "_deepnote_index_column": 53
                },
                {
                  "date": "1987-02-16",
                  "number_of_strikes": 19,
                  "center_point_geom": "POINT(-82.6 29.7)",
                  "_deepnote_index_column": 54
                },
                {
                  "date": "1987-02-16",
                  "number_of_strikes": 28,
                  "center_point_geom": "POINT(-82.5 29.7)",
                  "_deepnote_index_column": 55
                },
                {
                  "date": "1987-02-16",
                  "number_of_strikes": 20,
                  "center_point_geom": "POINT(-83.1 29.4)",
                  "_deepnote_index_column": 56
                },
                {
                  "date": "1987-02-16",
                  "number_of_strikes": 24,
                  "center_point_geom": "POINT(-83.1 29.3)",
                  "_deepnote_index_column": 57
                },
                {
                  "date": "1987-02-16",
                  "number_of_strikes": 18,
                  "center_point_geom": "POINT(-81 29)",
                  "_deepnote_index_column": 58
                },
                {
                  "date": "1987-02-16",
                  "number_of_strikes": 20,
                  "center_point_geom": "POINT(-82.5 29.4)",
                  "_deepnote_index_column": 59
                },
                {
                  "date": "1987-02-16",
                  "number_of_strikes": 18,
                  "center_point_geom": "POINT(-80.5 31.3)",
                  "_deepnote_index_column": 60
                },
                {
                  "date": "1987-02-16",
                  "number_of_strikes": 19,
                  "center_point_geom": "POINT(-77.9 28.6)",
                  "_deepnote_index_column": 61
                },
                {
                  "date": "1987-02-16",
                  "number_of_strikes": 20,
                  "center_point_geom": "POINT(-81.9 29.4)",
                  "_deepnote_index_column": 62
                },
                {
                  "date": "1987-02-16",
                  "number_of_strikes": 28,
                  "center_point_geom": "POINT(-82.2 29.4)",
                  "_deepnote_index_column": 63
                },
                {
                  "date": "1987-02-16",
                  "number_of_strikes": 28,
                  "center_point_geom": "POINT(-83.8 29.2)",
                  "_deepnote_index_column": 64
                },
                {
                  "date": "1987-02-18",
                  "number_of_strikes": 18,
                  "center_point_geom": "POINT(-77.6 26.4)",
                  "_deepnote_index_column": 65
                },
                {
                  "date": "1987-02-18",
                  "number_of_strikes": 18,
                  "center_point_geom": "POINT(-81.7 25.9)",
                  "_deepnote_index_column": 66
                },
                {
                  "date": "1987-02-18",
                  "number_of_strikes": 32,
                  "center_point_geom": "POINT(-83.2 24.3)",
                  "_deepnote_index_column": 67
                },
                {
                  "date": "1987-02-18",
                  "number_of_strikes": 29,
                  "center_point_geom": "POINT(-77.6 26.5)",
                  "_deepnote_index_column": 68
                },
                {
                  "date": "1987-02-18",
                  "number_of_strikes": 26,
                  "center_point_geom": "POINT(-77.7 26.4)",
                  "_deepnote_index_column": 69
                },
                {
                  "date": "1987-02-18",
                  "number_of_strikes": 22,
                  "center_point_geom": "POINT(-81.3 26)",
                  "_deepnote_index_column": 70
                },
                {
                  "date": "1987-02-18",
                  "number_of_strikes": 24,
                  "center_point_geom": "POINT(-77.8 26.4)",
                  "_deepnote_index_column": 71
                },
                {
                  "date": "1987-02-18",
                  "number_of_strikes": 33,
                  "center_point_geom": "POINT(-78.1 26.3)",
                  "_deepnote_index_column": 72
                },
                {
                  "date": "1987-02-18",
                  "number_of_strikes": 19,
                  "center_point_geom": "POINT(-80 26.3)",
                  "_deepnote_index_column": 73
                },
                {
                  "date": "1987-02-18",
                  "number_of_strikes": 19,
                  "center_point_geom": "POINT(-78.4 26.3)",
                  "_deepnote_index_column": 74
                },
                {
                  "date": "1987-02-18",
                  "number_of_strikes": 18,
                  "center_point_geom": "POINT(-82.4 25.8)",
                  "_deepnote_index_column": 75
                },
                {
                  "date": "1987-02-18",
                  "number_of_strikes": 17,
                  "center_point_geom": "POINT(-82.7 24.5)",
                  "_deepnote_index_column": 76
                },
                {
                  "date": "1987-02-18",
                  "number_of_strikes": 18,
                  "center_point_geom": "POINT(-77.9 26.4)",
                  "_deepnote_index_column": 77
                },
                {
                  "date": "1987-02-18",
                  "number_of_strikes": 17,
                  "center_point_geom": "POINT(-77.5 26.5)",
                  "_deepnote_index_column": 78
                },
                {
                  "date": "1987-02-18",
                  "number_of_strikes": 17,
                  "center_point_geom": "POINT(-78 26.3)",
                  "_deepnote_index_column": 79
                },
                {
                  "date": "1987-02-18",
                  "number_of_strikes": 20,
                  "center_point_geom": "POINT(-78.5 26.3)",
                  "_deepnote_index_column": 80
                },
                {
                  "date": "1987-02-18",
                  "number_of_strikes": 29,
                  "center_point_geom": "POINT(-83.3 24.2)",
                  "_deepnote_index_column": 81
                },
                {
                  "date": "1987-02-18",
                  "number_of_strikes": 20,
                  "center_point_geom": "POINT(-83.1 24.3)",
                  "_deepnote_index_column": 82
                },
                {
                  "date": "1987-02-18",
                  "number_of_strikes": 17,
                  "center_point_geom": "POINT(-79.9 26.3)",
                  "_deepnote_index_column": 83
                },
                {
                  "date": "1987-02-18",
                  "number_of_strikes": 17,
                  "center_point_geom": "POINT(-82.8 25.8)",
                  "_deepnote_index_column": 84
                },
                {
                  "date": "1987-02-18",
                  "number_of_strikes": 18,
                  "center_point_geom": "POINT(-79.7 25.5)",
                  "_deepnote_index_column": 85
                },
                {
                  "date": "1987-02-18",
                  "number_of_strikes": 24,
                  "center_point_geom": "POINT(-82.4 25.9)",
                  "_deepnote_index_column": 86
                },
                {
                  "date": "1987-02-22",
                  "number_of_strikes": 21,
                  "center_point_geom": "POINT(-82.6 29.7)",
                  "_deepnote_index_column": 87
                },
                {
                  "date": "1987-02-22",
                  "number_of_strikes": 23,
                  "center_point_geom": "POINT(-89 30.1)",
                  "_deepnote_index_column": 88
                },
                {
                  "date": "1987-02-22",
                  "number_of_strikes": 19,
                  "center_point_geom": "POINT(-81.2 29.6)",
                  "_deepnote_index_column": 89
                },
                {
                  "date": "1987-02-22",
                  "number_of_strikes": 23,
                  "center_point_geom": "POINT(-82.5 29.7)",
                  "_deepnote_index_column": 90
                },
                {
                  "date": "1987-02-22",
                  "number_of_strikes": 17,
                  "center_point_geom": "POINT(-79 27.4)",
                  "_deepnote_index_column": 91
                },
                {
                  "date": "1987-02-22",
                  "number_of_strikes": 20,
                  "center_point_geom": "POINT(-82.7 29.7)",
                  "_deepnote_index_column": 92
                },
                {
                  "date": "1987-02-22",
                  "number_of_strikes": 18,
                  "center_point_geom": "POINT(-82.2 29.7)",
                  "_deepnote_index_column": 93
                },
                {
                  "date": "1987-02-22",
                  "number_of_strikes": 19,
                  "center_point_geom": "POINT(-82.9 29.7)",
                  "_deepnote_index_column": 94
                },
                {
                  "date": "1987-02-22",
                  "number_of_strikes": 19,
                  "center_point_geom": "POINT(-89 30.6)",
                  "_deepnote_index_column": 95
                },
                {
                  "date": "1987-02-22",
                  "number_of_strikes": 17,
                  "center_point_geom": "POINT(-81.2 29.8)",
                  "_deepnote_index_column": 96
                },
                {
                  "date": "1987-02-22",
                  "number_of_strikes": 31,
                  "center_point_geom": "POINT(-82.3 29.7)",
                  "_deepnote_index_column": 97
                },
                {
                  "date": "1987-02-22",
                  "number_of_strikes": 24,
                  "center_point_geom": "POINT(-90 30.2)",
                  "_deepnote_index_column": 98
                },
                {
                  "date": "1987-02-22",
                  "number_of_strikes": 19,
                  "center_point_geom": "POINT(-88.3 30.6)",
                  "_deepnote_index_column": 99
                },
                {
                  "date": "1987-02-22",
                  "number_of_strikes": 30,
                  "center_point_geom": "POINT(-82.8 29.7)",
                  "_deepnote_index_column": 100
                },
                {
                  "date": "1987-02-22",
                  "number_of_strikes": 27,
                  "center_point_geom": "POINT(-82.4 29.7)",
                  "_deepnote_index_column": 101
                },
                {
                  "date": "1987-02-22",
                  "number_of_strikes": 21,
                  "center_point_geom": "POINT(-89.2 30.3)",
                  "_deepnote_index_column": 102
                },
                {
                  "date": "1987-02-22",
                  "number_of_strikes": 17,
                  "center_point_geom": "POINT(-79.1 31.1)",
                  "_deepnote_index_column": 103
                },
                {
                  "date": "1987-02-22",
                  "number_of_strikes": 22,
                  "center_point_geom": "POINT(-89.8 30.3)",
                  "_deepnote_index_column": 104
                },
                {
                  "date": "1987-02-22",
                  "number_of_strikes": 17,
                  "center_point_geom": "POINT(-89.9 30.3)",
                  "_deepnote_index_column": 105
                },
                {
                  "date": "1987-02-22",
                  "number_of_strikes": 18,
                  "center_point_geom": "POINT(-82.6 30.1)",
                  "_deepnote_index_column": 106
                },
                {
                  "date": "1987-02-23",
                  "number_of_strikes": 20,
                  "center_point_geom": "POINT(-78.7 30)",
                  "_deepnote_index_column": 107
                },
                {
                  "date": "1987-02-23",
                  "number_of_strikes": 17,
                  "center_point_geom": "POINT(-78.9 30.1)",
                  "_deepnote_index_column": 108
                },
                {
                  "date": "1987-02-23",
                  "number_of_strikes": 20,
                  "center_point_geom": "POINT(-78.8 30)",
                  "_deepnote_index_column": 109
                },
                {
                  "date": "1987-02-23",
                  "number_of_strikes": 19,
                  "center_point_geom": "POINT(-79.1 30.1)",
                  "_deepnote_index_column": 110
                },
                {
                  "date": "1987-02-23",
                  "number_of_strikes": 19,
                  "center_point_geom": "POINT(-78.7 30.1)",
                  "_deepnote_index_column": 111
                },
                {
                  "date": "1987-02-28",
                  "number_of_strikes": 31,
                  "center_point_geom": "POINT(-89.3 31.6)",
                  "_deepnote_index_column": 112
                },
                {
                  "date": "1987-02-28",
                  "number_of_strikes": 26,
                  "center_point_geom": "POINT(-89.1 31.7)",
                  "_deepnote_index_column": 113
                },
                {
                  "date": "1987-02-28",
                  "number_of_strikes": 18,
                  "center_point_geom": "POINT(-89 31.9)",
                  "_deepnote_index_column": 114
                },
                {
                  "date": "1987-02-28",
                  "number_of_strikes": 21,
                  "center_point_geom": "POINT(-89.4 31.6)",
                  "_deepnote_index_column": 115
                },
                {
                  "date": "1987-02-28",
                  "number_of_strikes": 17,
                  "center_point_geom": "POINT(-90.7 32.7)",
                  "_deepnote_index_column": 116
                },
                {
                  "date": "1987-02-28",
                  "number_of_strikes": 29,
                  "center_point_geom": "POINT(-89.2 31.7)",
                  "_deepnote_index_column": 117
                },
                {
                  "date": "1987-02-28",
                  "number_of_strikes": 32,
                  "center_point_geom": "POINT(-85.2 31.2)",
                  "_deepnote_index_column": 118
                },
                {
                  "date": "1987-02-28",
                  "number_of_strikes": 21,
                  "center_point_geom": "POINT(-88.9 31.8)",
                  "_deepnote_index_column": 119
                },
                {
                  "date": "1987-02-28",
                  "number_of_strikes": 21,
                  "center_point_geom": "POINT(-89.7 31.4)",
                  "_deepnote_index_column": 120
                },
                {
                  "date": "1987-02-28",
                  "number_of_strikes": 37,
                  "center_point_geom": "POINT(-89.2 31.6)",
                  "_deepnote_index_column": 121
                },
                {
                  "date": "1987-02-28",
                  "number_of_strikes": 20,
                  "center_point_geom": "POINT(-89.5 31.5)",
                  "_deepnote_index_column": 122
                },
                {
                  "date": "1987-02-28",
                  "number_of_strikes": 17,
                  "center_point_geom": "POINT(-89.4 31.5)",
                  "_deepnote_index_column": 123
                },
                {
                  "date": "1987-02-28",
                  "number_of_strikes": 18,
                  "center_point_geom": "POINT(-85.3 31.2)",
                  "_deepnote_index_column": 124
                },
                {
                  "date": "1987-02-28",
                  "number_of_strikes": 22,
                  "center_point_geom": "POINT(-90.9 33.4)",
                  "_deepnote_index_column": 125
                },
                {
                  "date": "1987-02-28",
                  "number_of_strikes": 30,
                  "center_point_geom": "POINT(-89.1 31.8)",
                  "_deepnote_index_column": 126
                },
                {
                  "date": "1987-03-01",
                  "number_of_strikes": 19,
                  "center_point_geom": "POINT(-78.4 28.3)",
                  "_deepnote_index_column": 127
                },
                {
                  "date": "1987-03-01",
                  "number_of_strikes": 17,
                  "center_point_geom": "POINT(-79.2 28.8)",
                  "_deepnote_index_column": 128
                },
                {
                  "date": "1987-03-01",
                  "number_of_strikes": 24,
                  "center_point_geom": "POINT(-78.7 28.3)",
                  "_deepnote_index_column": 129
                },
                {
                  "date": "1987-03-01",
                  "number_of_strikes": 20,
                  "center_point_geom": "POINT(-78.8 28.3)",
                  "_deepnote_index_column": 130
                },
                {
                  "date": "1987-03-01",
                  "number_of_strikes": 23,
                  "center_point_geom": "POINT(-78.6 28.3)",
                  "_deepnote_index_column": 131
                },
                {
                  "date": "1987-03-01",
                  "number_of_strikes": 21,
                  "center_point_geom": "POINT(-78.5 28.3)",
                  "_deepnote_index_column": 132
                },
                {
                  "date": "1987-03-02",
                  "number_of_strikes": 20,
                  "center_point_geom": "POINT(-78.1 27.6)",
                  "_deepnote_index_column": 133
                },
                {
                  "date": "1987-03-02",
                  "number_of_strikes": 18,
                  "center_point_geom": "POINT(-78.4 27.6)",
                  "_deepnote_index_column": 134
                },
                {
                  "date": "1987-03-02",
                  "number_of_strikes": 19,
                  "center_point_geom": "POINT(-77.9 28.3)",
                  "_deepnote_index_column": 135
                },
                {
                  "date": "1987-03-02",
                  "number_of_strikes": 17,
                  "center_point_geom": "POINT(-78.2 28.3)",
                  "_deepnote_index_column": 136
                },
                {
                  "date": "1987-03-02",
                  "number_of_strikes": 24,
                  "center_point_geom": "POINT(-78.3 27.6)",
                  "_deepnote_index_column": 137
                },
                {
                  "date": "1987-03-02",
                  "number_of_strikes": 17,
                  "center_point_geom": "POINT(-78.8 27.5)",
                  "_deepnote_index_column": 138
                },
                {
                  "date": "1987-03-02",
                  "number_of_strikes": 17,
                  "center_point_geom": "POINT(-77.7 27.7)",
                  "_deepnote_index_column": 139
                },
                {
                  "date": "1987-03-02",
                  "number_of_strikes": 19,
                  "center_point_geom": "POINT(-78.1 27.7)",
                  "_deepnote_index_column": 140
                },
                {
                  "date": "1987-03-02",
                  "number_of_strikes": 22,
                  "center_point_geom": "POINT(-77.8 28.3)",
                  "_deepnote_index_column": 141
                },
                {
                  "date": "1987-03-02",
                  "number_of_strikes": 18,
                  "center_point_geom": "POINT(-78.2 27.6)",
                  "_deepnote_index_column": 142
                },
                {
                  "date": "1987-03-07",
                  "number_of_strikes": 17,
                  "center_point_geom": "POINT(-79 27)",
                  "_deepnote_index_column": 143
                },
                {
                  "date": "1987-03-07",
                  "number_of_strikes": 20,
                  "center_point_geom": "POINT(-78.9 26.9)",
                  "_deepnote_index_column": 144
                },
                {
                  "date": "1987-03-07",
                  "number_of_strikes": 18,
                  "center_point_geom": "POINT(-79 26.6)",
                  "_deepnote_index_column": 145
                },
                {
                  "date": "1987-03-07",
                  "number_of_strikes": 19,
                  "center_point_geom": "POINT(-77.7 27.9)",
                  "_deepnote_index_column": 146
                },
                {
                  "date": "1987-03-17",
                  "number_of_strikes": 32,
                  "center_point_geom": "POINT(-91.3 30.8)",
                  "_deepnote_index_column": 147
                },
                {
                  "date": "1987-03-17",
                  "number_of_strikes": 20,
                  "center_point_geom": "POINT(-92.4 30)",
                  "_deepnote_index_column": 148
                },
                {
                  "date": "1987-03-17",
                  "number_of_strikes": 17,
                  "center_point_geom": "POINT(-91.9 30.4)",
                  "_deepnote_index_column": 149
                },
                {
                  "date": "1987-03-17",
                  "number_of_strikes": 21,
                  "center_point_geom": "POINT(-91.8 31.2)",
                  "_deepnote_index_column": 150
                },
                {
                  "date": "1987-03-17",
                  "number_of_strikes": 17,
                  "center_point_geom": "POINT(-91.4 31.7)",
                  "_deepnote_index_column": 151
                },
                {
                  "date": "1987-03-17",
                  "number_of_strikes": 28,
                  "center_point_geom": "POINT(-91.5 30.8)",
                  "_deepnote_index_column": 152
                },
                {
                  "date": "1987-03-17",
                  "number_of_strikes": 18,
                  "center_point_geom": "POINT(-91.5 31.3)",
                  "_deepnote_index_column": 153
                },
                {
                  "date": "1987-03-17",
                  "number_of_strikes": 21,
                  "center_point_geom": "POINT(-91.9 31)",
                  "_deepnote_index_column": 154
                },
                {
                  "date": "1987-03-17",
                  "number_of_strikes": 18,
                  "center_point_geom": "POINT(-91.3 31.6)",
                  "_deepnote_index_column": 155
                },
                {
                  "date": "1987-03-17",
                  "number_of_strikes": 19,
                  "center_point_geom": "POINT(-91.9 31.2)",
                  "_deepnote_index_column": 156
                },
                {
                  "date": "1987-03-17",
                  "number_of_strikes": 19,
                  "center_point_geom": "POINT(-91.4 31.6)",
                  "_deepnote_index_column": 157
                },
                {
                  "date": "1987-03-17",
                  "number_of_strikes": 25,
                  "center_point_geom": "POINT(-91.5 30.7)",
                  "_deepnote_index_column": 158
                },
                {
                  "date": "1987-03-17",
                  "number_of_strikes": 19,
                  "center_point_geom": "POINT(-91.7 31.3)",
                  "_deepnote_index_column": 159
                },
                {
                  "date": "1987-03-17",
                  "number_of_strikes": 44,
                  "center_point_geom": "POINT(-91.4 30.8)",
                  "_deepnote_index_column": 160
                },
                {
                  "date": "1987-03-17",
                  "number_of_strikes": 22,
                  "center_point_geom": "POINT(-91.3 31.5)",
                  "_deepnote_index_column": 161
                },
                {
                  "date": "1987-03-17",
                  "number_of_strikes": 19,
                  "center_point_geom": "POINT(-91.5 31.5)",
                  "_deepnote_index_column": 162
                },
                {
                  "date": "1987-03-17",
                  "number_of_strikes": 22,
                  "center_point_geom": "POINT(-91.6 30.6)",
                  "_deepnote_index_column": 163
                },
                {
                  "date": "1987-03-17",
                  "number_of_strikes": 18,
                  "center_point_geom": "POINT(-91.7 30.6)",
                  "_deepnote_index_column": 164
                },
                {
                  "date": "1987-03-17",
                  "number_of_strikes": 31,
                  "center_point_geom": "POINT(-91.4 31.8)",
                  "_deepnote_index_column": 165
                }
              ],
              "rows_bottom": [
                {
                  "date": "1987-03-30",
                  "number_of_strikes": 54,
                  "center_point_geom": "POINT(-82.8 28.6)",
                  "_deepnote_index_column": 833
                },
                {
                  "date": "1987-03-30",
                  "number_of_strikes": 43,
                  "center_point_geom": "POINT(-82.9 28.3)",
                  "_deepnote_index_column": 834
                },
                {
                  "date": "1987-03-30",
                  "number_of_strikes": 18,
                  "center_point_geom": "POINT(-83.4 28.2)",
                  "_deepnote_index_column": 835
                },
                {
                  "date": "1987-03-30",
                  "number_of_strikes": 20,
                  "center_point_geom": "POINT(-83.8 27.7)",
                  "_deepnote_index_column": 836
                },
                {
                  "date": "1987-03-31",
                  "number_of_strikes": 20,
                  "center_point_geom": "POINT(-76.6 33)",
                  "_deepnote_index_column": 837
                },
                {
                  "date": "1987-03-31",
                  "number_of_strikes": 17,
                  "center_point_geom": "POINT(-81.9 26)",
                  "_deepnote_index_column": 838
                },
                {
                  "date": "1987-03-31",
                  "number_of_strikes": 25,
                  "center_point_geom": "POINT(-79.3 28)",
                  "_deepnote_index_column": 839
                },
                {
                  "date": "1987-03-31",
                  "number_of_strikes": 18,
                  "center_point_geom": "POINT(-79.6 28.7)",
                  "_deepnote_index_column": 840
                },
                {
                  "date": "1987-03-31",
                  "number_of_strikes": 32,
                  "center_point_geom": "POINT(-79.4 28.9)",
                  "_deepnote_index_column": 841
                },
                {
                  "date": "1987-03-31",
                  "number_of_strikes": 17,
                  "center_point_geom": "POINT(-82 25.9)",
                  "_deepnote_index_column": 842
                },
                {
                  "date": "1987-03-31",
                  "number_of_strikes": 19,
                  "center_point_geom": "POINT(-79.3 27.5)",
                  "_deepnote_index_column": 843
                },
                {
                  "date": "1987-03-31",
                  "number_of_strikes": 29,
                  "center_point_geom": "POINT(-79.7 27.6)",
                  "_deepnote_index_column": 844
                },
                {
                  "date": "1987-03-31",
                  "number_of_strikes": 20,
                  "center_point_geom": "POINT(-79.2 28)",
                  "_deepnote_index_column": 845
                },
                {
                  "date": "1987-03-31",
                  "number_of_strikes": 33,
                  "center_point_geom": "POINT(-79.5 27.8)",
                  "_deepnote_index_column": 846
                },
                {
                  "date": "1987-03-31",
                  "number_of_strikes": 20,
                  "center_point_geom": "POINT(-77 32.6)",
                  "_deepnote_index_column": 847
                },
                {
                  "date": "1987-03-31",
                  "number_of_strikes": 26,
                  "center_point_geom": "POINT(-81.5 26)",
                  "_deepnote_index_column": 848
                },
                {
                  "date": "1987-03-31",
                  "number_of_strikes": 32,
                  "center_point_geom": "POINT(-81.6 25.9)",
                  "_deepnote_index_column": 849
                },
                {
                  "date": "1987-03-31",
                  "number_of_strikes": 34,
                  "center_point_geom": "POINT(-81.4 26.1)",
                  "_deepnote_index_column": 850
                },
                {
                  "date": "1987-03-31",
                  "number_of_strikes": 19,
                  "center_point_geom": "POINT(-79.3 27.9)",
                  "_deepnote_index_column": 851
                },
                {
                  "date": "1987-03-31",
                  "number_of_strikes": 25,
                  "center_point_geom": "POINT(-79.2 27.5)",
                  "_deepnote_index_column": 852
                },
                {
                  "date": "1987-03-31",
                  "number_of_strikes": 17,
                  "center_point_geom": "POINT(-82.1 26.5)",
                  "_deepnote_index_column": 853
                },
                {
                  "date": "1987-03-31",
                  "number_of_strikes": 18,
                  "center_point_geom": "POINT(-80.3 25.8)",
                  "_deepnote_index_column": 854
                },
                {
                  "date": "1987-03-31",
                  "number_of_strikes": 19,
                  "center_point_geom": "POINT(-79.3 27.6)",
                  "_deepnote_index_column": 855
                },
                {
                  "date": "1987-03-31",
                  "number_of_strikes": 19,
                  "center_point_geom": "POINT(-81.6 26)",
                  "_deepnote_index_column": 856
                },
                {
                  "date": "1987-03-31",
                  "number_of_strikes": 18,
                  "center_point_geom": "POINT(-79.8 27.4)",
                  "_deepnote_index_column": 857
                },
                {
                  "date": "1987-03-31",
                  "number_of_strikes": 17,
                  "center_point_geom": "POINT(-79.5 27.9)",
                  "_deepnote_index_column": 858
                },
                {
                  "date": "1987-03-31",
                  "number_of_strikes": 19,
                  "center_point_geom": "POINT(-81.7 26)",
                  "_deepnote_index_column": 859
                },
                {
                  "date": "1987-03-31",
                  "number_of_strikes": 28,
                  "center_point_geom": "POINT(-79.4 27.9)",
                  "_deepnote_index_column": 860
                },
                {
                  "date": "1987-03-31",
                  "number_of_strikes": 21,
                  "center_point_geom": "POINT(-79.5 27.1)",
                  "_deepnote_index_column": 861
                },
                {
                  "date": "1987-03-31",
                  "number_of_strikes": 25,
                  "center_point_geom": "POINT(-79.6 27.7)",
                  "_deepnote_index_column": 862
                },
                {
                  "date": "1987-03-31",
                  "number_of_strikes": 20,
                  "center_point_geom": "POINT(-79.5 27.2)",
                  "_deepnote_index_column": 863
                },
                {
                  "date": "1987-04-03",
                  "number_of_strikes": 20,
                  "center_point_geom": "POINT(-76.6 33.9)",
                  "_deepnote_index_column": 864
                },
                {
                  "date": "1987-04-03",
                  "number_of_strikes": 25,
                  "center_point_geom": "POINT(-76.4 34.2)",
                  "_deepnote_index_column": 865
                },
                {
                  "date": "1987-04-03",
                  "number_of_strikes": 20,
                  "center_point_geom": "POINT(-76.5 34)",
                  "_deepnote_index_column": 866
                },
                {
                  "date": "1987-04-03",
                  "number_of_strikes": 24,
                  "center_point_geom": "POINT(-78.8 32.1)",
                  "_deepnote_index_column": 867
                },
                {
                  "date": "1987-04-03",
                  "number_of_strikes": 17,
                  "center_point_geom": "POINT(-78.4 32.6)",
                  "_deepnote_index_column": 868
                },
                {
                  "date": "1987-04-04",
                  "number_of_strikes": 18,
                  "center_point_geom": "POINT(-76.3 33.2)",
                  "_deepnote_index_column": 869
                },
                {
                  "date": "1987-04-04",
                  "number_of_strikes": 19,
                  "center_point_geom": "POINT(-76.9 32.5)",
                  "_deepnote_index_column": 870
                },
                {
                  "date": "1987-04-11",
                  "number_of_strikes": 30,
                  "center_point_geom": "POINT(-76.4 33)",
                  "_deepnote_index_column": 871
                },
                {
                  "date": "1987-04-12",
                  "number_of_strikes": 27,
                  "center_point_geom": "POINT(-76 32.9)",
                  "_deepnote_index_column": 872
                },
                {
                  "date": "1987-04-12",
                  "number_of_strikes": 22,
                  "center_point_geom": "POINT(-90.4 35)",
                  "_deepnote_index_column": 873
                },
                {
                  "date": "1987-04-12",
                  "number_of_strikes": 21,
                  "center_point_geom": "POINT(-91.6 35)",
                  "_deepnote_index_column": 874
                },
                {
                  "date": "1987-04-12",
                  "number_of_strikes": 71,
                  "center_point_geom": "POINT(-87.6 34.4)",
                  "_deepnote_index_column": 875
                },
                {
                  "date": "1987-04-12",
                  "number_of_strikes": 18,
                  "center_point_geom": "POINT(-68.8 42.5)",
                  "_deepnote_index_column": 876
                },
                {
                  "date": "1987-04-12",
                  "number_of_strikes": 22,
                  "center_point_geom": "POINT(-68.2 42.6)",
                  "_deepnote_index_column": 877
                },
                {
                  "date": "1987-04-12",
                  "number_of_strikes": 19,
                  "center_point_geom": "POINT(-72.9 36.1)",
                  "_deepnote_index_column": 878
                },
                {
                  "date": "1987-04-12",
                  "number_of_strikes": 20,
                  "center_point_geom": "POINT(-74.3 37.1)",
                  "_deepnote_index_column": 879
                },
                {
                  "date": "1987-04-12",
                  "number_of_strikes": 22,
                  "center_point_geom": "POINT(-68.7 42.6)",
                  "_deepnote_index_column": 880
                },
                {
                  "date": "1987-04-12",
                  "number_of_strikes": 30,
                  "center_point_geom": "POINT(-68.2 42.5)",
                  "_deepnote_index_column": 881
                },
                {
                  "date": "1987-04-12",
                  "number_of_strikes": 22,
                  "center_point_geom": "POINT(-90.5 34.9)",
                  "_deepnote_index_column": 882
                },
                {
                  "date": "1987-04-12",
                  "number_of_strikes": 25,
                  "center_point_geom": "POINT(-87.3 34.4)",
                  "_deepnote_index_column": 883
                },
                {
                  "date": "1987-04-12",
                  "number_of_strikes": 17,
                  "center_point_geom": "POINT(-75.9 32.9)",
                  "_deepnote_index_column": 884
                },
                {
                  "date": "1987-04-12",
                  "number_of_strikes": 21,
                  "center_point_geom": "POINT(-69 42.5)",
                  "_deepnote_index_column": 885
                },
                {
                  "date": "1987-04-12",
                  "number_of_strikes": 17,
                  "center_point_geom": "POINT(-73.1 36.2)",
                  "_deepnote_index_column": 886
                },
                {
                  "date": "1987-04-12",
                  "number_of_strikes": 25,
                  "center_point_geom": "POINT(-76.6 32.6)",
                  "_deepnote_index_column": 887
                },
                {
                  "date": "1987-04-12",
                  "number_of_strikes": 40,
                  "center_point_geom": "POINT(-87.8 34.4)",
                  "_deepnote_index_column": 888
                },
                {
                  "date": "1987-04-12",
                  "number_of_strikes": 22,
                  "center_point_geom": "POINT(-73.3 36.1)",
                  "_deepnote_index_column": 889
                },
                {
                  "date": "1987-04-12",
                  "number_of_strikes": 17,
                  "center_point_geom": "POINT(-73.3 36.2)",
                  "_deepnote_index_column": 890
                },
                {
                  "date": "1987-04-12",
                  "number_of_strikes": 23,
                  "center_point_geom": "POINT(-73.3 38.4)",
                  "_deepnote_index_column": 891
                },
                {
                  "date": "1987-04-12",
                  "number_of_strikes": 17,
                  "center_point_geom": "POINT(-76.4 32.7)",
                  "_deepnote_index_column": 892
                },
                {
                  "date": "1987-04-12",
                  "number_of_strikes": 26,
                  "center_point_geom": "POINT(-80.1 36.4)",
                  "_deepnote_index_column": 893
                },
                {
                  "date": "1987-04-12",
                  "number_of_strikes": 17,
                  "center_point_geom": "POINT(-73.3 36)",
                  "_deepnote_index_column": 894
                },
                {
                  "date": "1987-04-12",
                  "number_of_strikes": 20,
                  "center_point_geom": "POINT(-91.3 34.9)",
                  "_deepnote_index_column": 895
                },
                {
                  "date": "1987-04-12",
                  "number_of_strikes": 17,
                  "center_point_geom": "POINT(-90.6 34.9)",
                  "_deepnote_index_column": 896
                },
                {
                  "date": "1987-04-12",
                  "number_of_strikes": 24,
                  "center_point_geom": "POINT(-72.8 36.1)",
                  "_deepnote_index_column": 897
                },
                {
                  "date": "1987-04-12",
                  "number_of_strikes": 32,
                  "center_point_geom": "POINT(-87.8 34.5)",
                  "_deepnote_index_column": 898
                },
                {
                  "date": "1987-04-12",
                  "number_of_strikes": 17,
                  "center_point_geom": "POINT(-73.6 35.1)",
                  "_deepnote_index_column": 899
                },
                {
                  "date": "1987-04-12",
                  "number_of_strikes": 22,
                  "center_point_geom": "POINT(-68.6 42.6)",
                  "_deepnote_index_column": 900
                },
                {
                  "date": "1987-04-12",
                  "number_of_strikes": 19,
                  "center_point_geom": "POINT(-74.3 36.1)",
                  "_deepnote_index_column": 901
                },
                {
                  "date": "1987-04-12",
                  "number_of_strikes": 43,
                  "center_point_geom": "POINT(-73.1 38.4)",
                  "_deepnote_index_column": 902
                },
                {
                  "date": "1987-04-12",
                  "number_of_strikes": 32,
                  "center_point_geom": "POINT(-87.4 34.3)",
                  "_deepnote_index_column": 903
                },
                {
                  "date": "1987-04-12",
                  "number_of_strikes": 77,
                  "center_point_geom": "POINT(-87.5 34.4)",
                  "_deepnote_index_column": 904
                },
                {
                  "date": "1987-04-12",
                  "number_of_strikes": 26,
                  "center_point_geom": "POINT(-68.1 42.7)",
                  "_deepnote_index_column": 905
                },
                {
                  "date": "1987-04-12",
                  "number_of_strikes": 18,
                  "center_point_geom": "POINT(-86.4 35.2)",
                  "_deepnote_index_column": 906
                },
                {
                  "date": "1987-04-12",
                  "number_of_strikes": 20,
                  "center_point_geom": "POINT(-87.5 34.3)",
                  "_deepnote_index_column": 907
                },
                {
                  "date": "1987-04-12",
                  "number_of_strikes": 24,
                  "center_point_geom": "POINT(-68 42.7)",
                  "_deepnote_index_column": 908
                },
                {
                  "date": "1987-04-12",
                  "number_of_strikes": 18,
                  "center_point_geom": "POINT(-68.3 42.5)",
                  "_deepnote_index_column": 909
                },
                {
                  "date": "1987-04-12",
                  "number_of_strikes": 20,
                  "center_point_geom": "POINT(-91.4 34.9)",
                  "_deepnote_index_column": 910
                },
                {
                  "date": "1987-04-12",
                  "number_of_strikes": 23,
                  "center_point_geom": "POINT(-91.1 34.9)",
                  "_deepnote_index_column": 911
                },
                {
                  "date": "1987-04-12",
                  "number_of_strikes": 24,
                  "center_point_geom": "POINT(-74 33.9)",
                  "_deepnote_index_column": 912
                },
                {
                  "date": "1987-04-12",
                  "number_of_strikes": 18,
                  "center_point_geom": "POINT(-91.2 34.9)",
                  "_deepnote_index_column": 913
                },
                {
                  "date": "1987-04-12",
                  "number_of_strikes": 17,
                  "center_point_geom": "POINT(-73.1 38.5)",
                  "_deepnote_index_column": 914
                },
                {
                  "date": "1987-04-12",
                  "number_of_strikes": 23,
                  "center_point_geom": "POINT(-74.3 33.8)",
                  "_deepnote_index_column": 915
                },
                {
                  "date": "1987-04-12",
                  "number_of_strikes": 28,
                  "center_point_geom": "POINT(-73.2 38.4)",
                  "_deepnote_index_column": 916
                },
                {
                  "date": "1987-04-12",
                  "number_of_strikes": 17,
                  "center_point_geom": "POINT(-68.2 42.7)",
                  "_deepnote_index_column": 917
                },
                {
                  "date": "1987-04-12",
                  "number_of_strikes": 21,
                  "center_point_geom": "POINT(-87.7 28.6)",
                  "_deepnote_index_column": 918
                },
                {
                  "date": "1987-04-12",
                  "number_of_strikes": 19,
                  "center_point_geom": "POINT(-90.5 35)",
                  "_deepnote_index_column": 919
                },
                {
                  "date": "1987-04-12",
                  "number_of_strikes": 19,
                  "center_point_geom": "POINT(-76.4 32.6)",
                  "_deepnote_index_column": 920
                },
                {
                  "date": "1987-04-12",
                  "number_of_strikes": 18,
                  "center_point_geom": "POINT(-76.3 32.7)",
                  "_deepnote_index_column": 921
                },
                {
                  "date": "1987-04-12",
                  "number_of_strikes": 21,
                  "center_point_geom": "POINT(-68.9 42.5)",
                  "_deepnote_index_column": 922
                },
                {
                  "date": "1987-04-12",
                  "number_of_strikes": 17,
                  "center_point_geom": "POINT(-87.4 34.2)",
                  "_deepnote_index_column": 923
                },
                {
                  "date": "1987-04-12",
                  "number_of_strikes": 17,
                  "center_point_geom": "POINT(-88.3 35)",
                  "_deepnote_index_column": 924
                },
                {
                  "date": "1987-04-12",
                  "number_of_strikes": 27,
                  "center_point_geom": "POINT(-91.3 35)",
                  "_deepnote_index_column": 925
                },
                {
                  "date": "1987-04-12",
                  "number_of_strikes": 18,
                  "center_point_geom": "POINT(-76.7 32.7)",
                  "_deepnote_index_column": 926
                },
                {
                  "date": "1987-04-12",
                  "number_of_strikes": 22,
                  "center_point_geom": "POINT(-68.1 42.6)",
                  "_deepnote_index_column": 927
                },
                {
                  "date": "1987-04-12",
                  "number_of_strikes": 19,
                  "center_point_geom": "POINT(-68.8 42.6)",
                  "_deepnote_index_column": 928
                },
                {
                  "date": "1987-04-12",
                  "number_of_strikes": 20,
                  "center_point_geom": "POINT(-76.5 32.6)",
                  "_deepnote_index_column": 929
                },
                {
                  "date": "1987-04-12",
                  "number_of_strikes": 58,
                  "center_point_geom": "POINT(-87.7 34.4)",
                  "_deepnote_index_column": 930
                },
                {
                  "date": "1987-04-12",
                  "number_of_strikes": 33,
                  "center_point_geom": "POINT(-91.4 35)",
                  "_deepnote_index_column": 931
                },
                {
                  "date": "1987-04-12",
                  "number_of_strikes": 50,
                  "center_point_geom": "POINT(-87.4 34.4)",
                  "_deepnote_index_column": 932
                },
                {
                  "date": "1987-04-12",
                  "number_of_strikes": 23,
                  "center_point_geom": "POINT(-68.1 42.5)",
                  "_deepnote_index_column": 933
                },
                {
                  "date": "1987-04-12",
                  "number_of_strikes": 18,
                  "center_point_geom": "POINT(-76.7 32.6)",
                  "_deepnote_index_column": 934
                },
                {
                  "date": "1987-04-12",
                  "number_of_strikes": 25,
                  "center_point_geom": "POINT(-68 42.6)",
                  "_deepnote_index_column": 935
                },
                {
                  "date": "1987-04-12",
                  "number_of_strikes": 26,
                  "center_point_geom": "POINT(-87.9 34.4)",
                  "_deepnote_index_column": 936
                },
                {
                  "date": "1987-04-12",
                  "number_of_strikes": 26,
                  "center_point_geom": "POINT(-91.2 35)",
                  "_deepnote_index_column": 937
                },
                {
                  "date": "1987-04-12",
                  "number_of_strikes": 21,
                  "center_point_geom": "POINT(-73.5 36.2)",
                  "_deepnote_index_column": 938
                },
                {
                  "date": "1987-04-12",
                  "number_of_strikes": 23,
                  "center_point_geom": "POINT(-73 38.4)",
                  "_deepnote_index_column": 939
                },
                {
                  "date": "1987-04-12",
                  "number_of_strikes": 20,
                  "center_point_geom": "POINT(-68 42.5)",
                  "_deepnote_index_column": 940
                },
                {
                  "date": "1987-04-12",
                  "number_of_strikes": 22,
                  "center_point_geom": "POINT(-74.1 37.2)",
                  "_deepnote_index_column": 941
                },
                {
                  "date": "1987-04-13",
                  "number_of_strikes": 24,
                  "center_point_geom": "POINT(-87.6 35.6)",
                  "_deepnote_index_column": 942
                },
                {
                  "date": "1987-04-13",
                  "number_of_strikes": 22,
                  "center_point_geom": "POINT(-90.3 35.5)",
                  "_deepnote_index_column": 943
                },
                {
                  "date": "1987-04-13",
                  "number_of_strikes": 21,
                  "center_point_geom": "POINT(-89.1 34.2)",
                  "_deepnote_index_column": 944
                },
                {
                  "date": "1987-04-13",
                  "number_of_strikes": 27,
                  "center_point_geom": "POINT(-89.8 34.9)",
                  "_deepnote_index_column": 945
                },
                {
                  "date": "1987-04-13",
                  "number_of_strikes": 21,
                  "center_point_geom": "POINT(-91.2 29.8)",
                  "_deepnote_index_column": 946
                },
                {
                  "date": "1987-04-13",
                  "number_of_strikes": 29,
                  "center_point_geom": "POINT(-90.6 35.4)",
                  "_deepnote_index_column": 947
                },
                {
                  "date": "1987-04-13",
                  "number_of_strikes": 19,
                  "center_point_geom": "POINT(-90.9 33.9)",
                  "_deepnote_index_column": 948
                },
                {
                  "date": "1987-04-13",
                  "number_of_strikes": 24,
                  "center_point_geom": "POINT(-89.6 34.9)",
                  "_deepnote_index_column": 949
                },
                {
                  "date": "1987-04-13",
                  "number_of_strikes": 29,
                  "center_point_geom": "POINT(-90.3 35.7)",
                  "_deepnote_index_column": 950
                },
                {
                  "date": "1987-04-13",
                  "number_of_strikes": 20,
                  "center_point_geom": "POINT(-86.7 28.9)",
                  "_deepnote_index_column": 951
                },
                {
                  "date": "1987-04-13",
                  "number_of_strikes": 23,
                  "center_point_geom": "POINT(-87.8 35.7)",
                  "_deepnote_index_column": 952
                },
                {
                  "date": "1987-04-13",
                  "number_of_strikes": 28,
                  "center_point_geom": "POINT(-89.7 35.3)",
                  "_deepnote_index_column": 953
                },
                {
                  "date": "1987-04-13",
                  "number_of_strikes": 23,
                  "center_point_geom": "POINT(-90.5 34.4)",
                  "_deepnote_index_column": 954
                },
                {
                  "date": "1987-04-13",
                  "number_of_strikes": 25,
                  "center_point_geom": "POINT(-87.7 36.3)",
                  "_deepnote_index_column": 955
                },
                {
                  "date": "1987-04-13",
                  "number_of_strikes": 26,
                  "center_point_geom": "POINT(-89.6 35.5)",
                  "_deepnote_index_column": 956
                },
                {
                  "date": "1987-04-13",
                  "number_of_strikes": 18,
                  "center_point_geom": "POINT(-91 30.2)",
                  "_deepnote_index_column": 957
                },
                {
                  "date": "1987-04-13",
                  "number_of_strikes": 17,
                  "center_point_geom": "POINT(-90.5 35.5)",
                  "_deepnote_index_column": 958
                },
                {
                  "date": "1987-04-13",
                  "number_of_strikes": 17,
                  "center_point_geom": "POINT(-89.8 33.6)",
                  "_deepnote_index_column": 959
                },
                {
                  "date": "1987-04-13",
                  "number_of_strikes": 23,
                  "center_point_geom": "POINT(-89.4 35.8)",
                  "_deepnote_index_column": 960
                },
                {
                  "date": "1987-04-13",
                  "number_of_strikes": 24,
                  "center_point_geom": "POINT(-89.2 34.1)",
                  "_deepnote_index_column": 961
                },
                {
                  "date": "1987-04-13",
                  "number_of_strikes": 21,
                  "center_point_geom": "POINT(-89.7 35)",
                  "_deepnote_index_column": 962
                },
                {
                  "date": "1987-04-13",
                  "number_of_strikes": 19,
                  "center_point_geom": "POINT(-73 41.1)",
                  "_deepnote_index_column": 963
                },
                {
                  "date": "1987-04-13",
                  "number_of_strikes": 19,
                  "center_point_geom": "POINT(-91.1 33.6)",
                  "_deepnote_index_column": 964
                },
                {
                  "date": "1987-04-13",
                  "number_of_strikes": 33,
                  "center_point_geom": "POINT(-88 35.3)",
                  "_deepnote_index_column": 965
                },
                {
                  "date": "1987-04-13",
                  "number_of_strikes": 24,
                  "center_point_geom": "POINT(-89.1 34.3)",
                  "_deepnote_index_column": 966
                },
                {
                  "date": "1987-04-13",
                  "number_of_strikes": 33,
                  "center_point_geom": "POINT(-89.6 30.5)",
                  "_deepnote_index_column": 967
                },
                {
                  "date": "1987-04-13",
                  "number_of_strikes": 22,
                  "center_point_geom": "POINT(-89.6 35.3)",
                  "_deepnote_index_column": 968
                },
                {
                  "date": "1987-04-13",
                  "number_of_strikes": 21,
                  "center_point_geom": "POINT(-87.4 35.1)",
                  "_deepnote_index_column": 969
                },
                {
                  "date": "1987-04-13",
                  "number_of_strikes": 20,
                  "center_point_geom": "POINT(-89.7 35.1)",
                  "_deepnote_index_column": 970
                },
                {
                  "date": "1987-04-13",
                  "number_of_strikes": 18,
                  "center_point_geom": "POINT(-90.4 34.4)",
                  "_deepnote_index_column": 971
                },
                {
                  "date": "1987-04-13",
                  "number_of_strikes": 21,
                  "center_point_geom": "POINT(-87 35.1)",
                  "_deepnote_index_column": 972
                },
                {
                  "date": "1987-04-13",
                  "number_of_strikes": 24,
                  "center_point_geom": "POINT(-91.1 29.3)",
                  "_deepnote_index_column": 973
                },
                {
                  "date": "1987-04-13",
                  "number_of_strikes": 21,
                  "center_point_geom": "POINT(-90.2 35.7)",
                  "_deepnote_index_column": 974
                },
                {
                  "date": "1987-04-13",
                  "number_of_strikes": 19,
                  "center_point_geom": "POINT(-90.5 34.8)",
                  "_deepnote_index_column": 975
                },
                {
                  "date": "1987-04-13",
                  "number_of_strikes": 21,
                  "center_point_geom": "POINT(-87.4 35.8)",
                  "_deepnote_index_column": 976
                },
                {
                  "date": "1987-04-13",
                  "number_of_strikes": 35,
                  "center_point_geom": "POINT(-87.5 35.9)",
                  "_deepnote_index_column": 977
                },
                {
                  "date": "1987-04-13",
                  "number_of_strikes": 17,
                  "center_point_geom": "POINT(-92.1 36.2)",
                  "_deepnote_index_column": 978
                },
                {
                  "date": "1987-04-13",
                  "number_of_strikes": 17,
                  "center_point_geom": "POINT(-89.5 34.3)",
                  "_deepnote_index_column": 979
                },
                {
                  "date": "1987-04-13",
                  "number_of_strikes": 28,
                  "center_point_geom": "POINT(-87.9 35.7)",
                  "_deepnote_index_column": 980
                },
                {
                  "date": "1987-04-13",
                  "number_of_strikes": 20,
                  "center_point_geom": "POINT(-87.4 35.7)",
                  "_deepnote_index_column": 981
                },
                {
                  "date": "1987-04-13",
                  "number_of_strikes": 23,
                  "center_point_geom": "POINT(-89.7 35.2)",
                  "_deepnote_index_column": 982
                },
                {
                  "date": "1987-04-13",
                  "number_of_strikes": 20,
                  "center_point_geom": "POINT(-88.1 35.1)",
                  "_deepnote_index_column": 983
                },
                {
                  "date": "1987-04-13",
                  "number_of_strikes": 26,
                  "center_point_geom": "POINT(-87.5 35.7)",
                  "_deepnote_index_column": 984
                },
                {
                  "date": "1987-04-13",
                  "number_of_strikes": 18,
                  "center_point_geom": "POINT(-89.8 32.4)",
                  "_deepnote_index_column": 985
                },
                {
                  "date": "1987-04-13",
                  "number_of_strikes": 19,
                  "center_point_geom": "POINT(-89.3 35.1)",
                  "_deepnote_index_column": 986
                },
                {
                  "date": "1987-04-13",
                  "number_of_strikes": 17,
                  "center_point_geom": "POINT(-91.3 34.1)",
                  "_deepnote_index_column": 987
                },
                {
                  "date": "1987-04-13",
                  "number_of_strikes": 20,
                  "center_point_geom": "POINT(-89.3 34)",
                  "_deepnote_index_column": 988
                },
                {
                  "date": "1987-04-13",
                  "number_of_strikes": 20,
                  "center_point_geom": "POINT(-87.3 29.1)",
                  "_deepnote_index_column": 989
                },
                {
                  "date": "1987-04-13",
                  "number_of_strikes": 21,
                  "center_point_geom": "POINT(-89.8 35.2)",
                  "_deepnote_index_column": 990
                },
                {
                  "date": "1987-04-13",
                  "number_of_strikes": 38,
                  "center_point_geom": "POINT(-87.4 35.9)",
                  "_deepnote_index_column": 991
                },
                {
                  "date": "1987-04-13",
                  "number_of_strikes": 22,
                  "center_point_geom": "POINT(-89.6 30.6)",
                  "_deepnote_index_column": 992
                },
                {
                  "date": "1987-04-13",
                  "number_of_strikes": 25,
                  "center_point_geom": "POINT(-90.6 34.5)",
                  "_deepnote_index_column": 993
                },
                {
                  "date": "1987-04-13",
                  "number_of_strikes": 27,
                  "center_point_geom": "POINT(-89.6 34.1)",
                  "_deepnote_index_column": 994
                },
                {
                  "date": "1987-04-13",
                  "number_of_strikes": 21,
                  "center_point_geom": "POINT(-90 30.4)",
                  "_deepnote_index_column": 995
                },
                {
                  "date": "1987-04-13",
                  "number_of_strikes": 17,
                  "center_point_geom": "POINT(-89.6 35)",
                  "_deepnote_index_column": 996
                },
                {
                  "date": "1987-04-13",
                  "number_of_strikes": 30,
                  "center_point_geom": "POINT(-88 35.4)",
                  "_deepnote_index_column": 997
                },
                {
                  "date": "1987-04-13",
                  "number_of_strikes": 21,
                  "center_point_geom": "POINT(-89.4 35.7)",
                  "_deepnote_index_column": 998
                },
                {
                  "date": "1987-04-13",
                  "number_of_strikes": 17,
                  "center_point_geom": "POINT(-90.2 34.9)",
                  "_deepnote_index_column": 999
                }
              ]
            },
            "text/plain": "           date  number_of_strikes  center_point_geom\n0    1987-01-01                 21    POINT(-80.7 26)\n1    1987-01-04                 23  POINT(-83.2 28.3)\n2    1987-01-05                 40  POINT(-78.9 31.3)\n3    1987-01-05                 20  POINT(-79.2 31.4)\n4    1987-01-05                 21  POINT(-80.1 31.4)\n..          ...                ...                ...\n995  1987-04-13                 21    POINT(-90 30.4)\n996  1987-04-13                 17    POINT(-89.6 35)\n997  1987-04-13                 30    POINT(-88 35.4)\n998  1987-04-13                 21  POINT(-89.4 35.7)\n999  1987-04-13                 17  POINT(-90.2 34.9)\n\n[1000 rows x 3 columns]",
            "text/html": "<div>\n<style scoped>\n    .dataframe tbody tr th:only-of-type {\n        vertical-align: middle;\n    }\n\n    .dataframe tbody tr th {\n        vertical-align: top;\n    }\n\n    .dataframe thead th {\n        text-align: right;\n    }\n</style>\n<table border=\"1\" class=\"dataframe\">\n  <thead>\n    <tr style=\"text-align: right;\">\n      <th></th>\n      <th>date</th>\n      <th>number_of_strikes</th>\n      <th>center_point_geom</th>\n    </tr>\n  </thead>\n  <tbody>\n    <tr>\n      <th>0</th>\n      <td>1987-01-01</td>\n      <td>21</td>\n      <td>POINT(-80.7 26)</td>\n    </tr>\n    <tr>\n      <th>1</th>\n      <td>1987-01-04</td>\n      <td>23</td>\n      <td>POINT(-83.2 28.3)</td>\n    </tr>\n    <tr>\n      <th>2</th>\n      <td>1987-01-05</td>\n      <td>40</td>\n      <td>POINT(-78.9 31.3)</td>\n    </tr>\n    <tr>\n      <th>3</th>\n      <td>1987-01-05</td>\n      <td>20</td>\n      <td>POINT(-79.2 31.4)</td>\n    </tr>\n    <tr>\n      <th>4</th>\n      <td>1987-01-05</td>\n      <td>21</td>\n      <td>POINT(-80.1 31.4)</td>\n    </tr>\n    <tr>\n      <th>...</th>\n      <td>...</td>\n      <td>...</td>\n      <td>...</td>\n    </tr>\n    <tr>\n      <th>995</th>\n      <td>1987-04-13</td>\n      <td>21</td>\n      <td>POINT(-90 30.4)</td>\n    </tr>\n    <tr>\n      <th>996</th>\n      <td>1987-04-13</td>\n      <td>17</td>\n      <td>POINT(-89.6 35)</td>\n    </tr>\n    <tr>\n      <th>997</th>\n      <td>1987-04-13</td>\n      <td>30</td>\n      <td>POINT(-88 35.4)</td>\n    </tr>\n    <tr>\n      <th>998</th>\n      <td>1987-04-13</td>\n      <td>21</td>\n      <td>POINT(-89.4 35.7)</td>\n    </tr>\n    <tr>\n      <th>999</th>\n      <td>1987-04-13</td>\n      <td>17</td>\n      <td>POINT(-90.2 34.9)</td>\n    </tr>\n  </tbody>\n</table>\n<p>1000 rows × 3 columns</p>\n</div>"
          },
          "metadata": {}
        }
      ]
    },
    {
      "cell_type": "markdown",
      "source": "<a style='text-decoration:none;line-height:16px;display:flex;color:#5B5B62;padding:10px;justify-content:end;' href='https://deepnote.com?utm_source=created-in-deepnote-cell&projectId=edfb4a06-7ebe-4712-a405-ba0471591ca6' target=\"_blank\">\n<img alt='Created in deepnote.com' style='display:inline;max-height:16px;margin:0px;margin-right:7.5px;' src='data:image/svg+xml;base64,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' > </img>\nCreated in <span style='font-weight:600;margin-left:4px;'>Deepnote</span></a>",
      "metadata": {
        "tags": [],
        "created_in_deepnote_cell": true,
        "deepnote_cell_type": "markdown"
      }
    }
  ],
  "nbformat": 4,
  "nbformat_minor": 2,
  "metadata": {
    "orig_nbformat": 2,
    "deepnote": {
      "is_reactive": false
    },
    "deepnote_notebook_id": "62173f30-05c4-4ce1-8f41-e6f9c1a47fb9",
    "deepnote_execution_queue": []
  }
}